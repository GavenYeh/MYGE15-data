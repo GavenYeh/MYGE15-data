{
 "cells": [
  {
   "cell_type": "code",
   "execution_count": 117,
   "metadata": {},
   "outputs": [],
   "source": [
    "import pandas as pd"
   ]
  },
  {
   "cell_type": "markdown",
   "metadata": {},
   "source": [
    "df.info() to check for null values"
   ]
  },
  {
   "cell_type": "code",
   "execution_count": 118,
   "metadata": {},
   "outputs": [
    {
     "name": "stdout",
     "output_type": "stream",
     "text": [
      "<class 'pandas.core.frame.DataFrame'>\n",
      "RangeIndex: 945 entries, 0 to 944\n",
      "Data columns (total 6 columns):\n",
      " #   Column          Non-Null Count  Dtype \n",
      "---  ------          --------------  ----- \n",
      " 0   state           945 non-null    object\n",
      " 1   constituency    945 non-null    object\n",
      " 2   result          945 non-null    object\n",
      " 3   candidate_name  945 non-null    object\n",
      " 4   coalition       945 non-null    object\n",
      " 5   no_of_votes     939 non-null    object\n",
      "dtypes: object(6)\n",
      "memory usage: 44.4+ KB\n",
      "None\n"
     ]
    }
   ],
   "source": [
    "df = pd.read_csv('./output/MY_GE15_original.csv')\n",
    "# print(df.head())\n",
    "\n",
    "# print(df.describe())\n",
    "\n",
    "print(df.info())\n",
    "\n",
    "# df['constituency'] = df['constituency'].str.extract('(?<=: )(.*)') \n",
    "# df['no_of_votes'] = df['no_of_votes'].str.extract('(?<=: )(.*)')\n",
    "# df['no_of_votes'] = df['no_of_votes'].str.replace(',', '').astype(float)\n",
    "# df.head()\n",
    "# print(df[df.isna().any(axis=1)])"
   ]
  },
  {
   "cell_type": "markdown",
   "metadata": {},
   "source": [
    "Null values in no_of_votes. Lets have a look at those rows."
   ]
  },
  {
   "cell_type": "code",
   "execution_count": 119,
   "metadata": {},
   "outputs": [
    {
     "name": "stdout",
     "output_type": "stream",
     "text": [
      "     state         constituency  result               candidate_name  \\\n",
      "154  KEDAH  P.017: PADANG SERAI  Calon:            DATO' CIKGU AZMAN   \n",
      "155  KEDAH  P.017: PADANG SERAI  Calon:        DATO SIVARAJ CHANDRAN   \n",
      "156  KEDAH  P.017: PADANG SERAI  Calon:            HAMZAH ABD RAHMAN   \n",
      "157  KEDAH  P.017: PADANG SERAI  Calon:              DR. SOFEE RAZAK   \n",
      "158  KEDAH  P.017: PADANG SERAI  Calon:                    ANANDA AK   \n",
      "159  KEDAH  P.017: PADANG SERAI  Calon:  MOHD BAKHRI BIN HAJI HASHIM   \n",
      "\n",
      "                        coalition no_of_votes  \n",
      "154            PERIKATAN NASIONAL         NaN  \n",
      "155  BARISAN NASIONAL OF MALAYSIA         NaN  \n",
      "156        PARTI PEJUANG TANAHAIR         NaN  \n",
      "157               PAKATAN HARAPAN         NaN  \n",
      "158                         BEBAS         NaN  \n",
      "159           PARTI WARISAN SABAH         NaN  \n"
     ]
    }
   ],
   "source": [
    "print(df[df.isna().any(axis=1)])"
   ]
  },
  {
   "cell_type": "markdown",
   "metadata": {},
   "source": [
    "They're null because that constituency's polling was postponed due to the death of one of the candidates. They will not be considered in this analysis"
   ]
  },
  {
   "cell_type": "code",
   "execution_count": 120,
   "metadata": {},
   "outputs": [
    {
     "name": "stdout",
     "output_type": "stream",
     "text": [
      "<class 'pandas.core.frame.DataFrame'>\n",
      "Int64Index: 939 entries, 0 to 944\n",
      "Data columns (total 6 columns):\n",
      " #   Column          Non-Null Count  Dtype \n",
      "---  ------          --------------  ----- \n",
      " 0   state           939 non-null    object\n",
      " 1   constituency    939 non-null    object\n",
      " 2   result          939 non-null    object\n",
      " 3   candidate_name  939 non-null    object\n",
      " 4   coalition       939 non-null    object\n",
      " 5   no_of_votes     939 non-null    object\n",
      "dtypes: object(6)\n",
      "memory usage: 51.4+ KB\n"
     ]
    }
   ],
   "source": [
    "df = df.dropna()\n",
    "df.info()"
   ]
  },
  {
   "cell_type": "code",
   "execution_count": 121,
   "metadata": {},
   "outputs": [
    {
     "data": {
      "text/html": [
       "<div>\n",
       "<style scoped>\n",
       "    .dataframe tbody tr th:only-of-type {\n",
       "        vertical-align: middle;\n",
       "    }\n",
       "\n",
       "    .dataframe tbody tr th {\n",
       "        vertical-align: top;\n",
       "    }\n",
       "\n",
       "    .dataframe thead th {\n",
       "        text-align: right;\n",
       "    }\n",
       "</style>\n",
       "<table border=\"1\" class=\"dataframe\">\n",
       "  <thead>\n",
       "    <tr style=\"text-align: right;\">\n",
       "      <th></th>\n",
       "      <th>state</th>\n",
       "      <th>constituency</th>\n",
       "      <th>result</th>\n",
       "      <th>candidate_name</th>\n",
       "      <th>coalition</th>\n",
       "      <th>no_of_votes</th>\n",
       "    </tr>\n",
       "  </thead>\n",
       "  <tbody>\n",
       "    <tr>\n",
       "      <th>count</th>\n",
       "      <td>939</td>\n",
       "      <td>939</td>\n",
       "      <td>939</td>\n",
       "      <td>939</td>\n",
       "      <td>939</td>\n",
       "      <td>939</td>\n",
       "    </tr>\n",
       "    <tr>\n",
       "      <th>unique</th>\n",
       "      <td>16</td>\n",
       "      <td>221</td>\n",
       "      <td>3</td>\n",
       "      <td>938</td>\n",
       "      <td>23</td>\n",
       "      <td>904</td>\n",
       "    </tr>\n",
       "    <tr>\n",
       "      <th>top</th>\n",
       "      <td>SELANGOR</td>\n",
       "      <td>P.115: BATU</td>\n",
       "      <td>Telah Hilang Deposit:</td>\n",
       "      <td>RIZAL</td>\n",
       "      <td>PAKATAN HARAPAN</td>\n",
       "      <td>Jumlah Undi: 366</td>\n",
       "    </tr>\n",
       "    <tr>\n",
       "      <th>freq</th>\n",
       "      <td>124</td>\n",
       "      <td>10</td>\n",
       "      <td>374</td>\n",
       "      <td>2</td>\n",
       "      <td>205</td>\n",
       "      <td>3</td>\n",
       "    </tr>\n",
       "  </tbody>\n",
       "</table>\n",
       "</div>"
      ],
      "text/plain": [
       "           state constituency                 result candidate_name  \\\n",
       "count        939          939                    939            939   \n",
       "unique        16          221                      3            938   \n",
       "top     SELANGOR  P.115: BATU  Telah Hilang Deposit:          RIZAL   \n",
       "freq         124           10                    374              2   \n",
       "\n",
       "              coalition       no_of_votes  \n",
       "count               939               939  \n",
       "unique               23               904  \n",
       "top     PAKATAN HARAPAN  Jumlah Undi: 366  \n",
       "freq                205                 3  "
      ]
     },
     "execution_count": 121,
     "metadata": {},
     "output_type": "execute_result"
    }
   ],
   "source": [
    "df.describe()"
   ]
  },
  {
   "cell_type": "markdown",
   "metadata": {},
   "source": [
    "From df.describe(), we have the right number of states (16) and the right number of constituencies (221 because we removed Padang Serai). \n",
    "\n",
    "2 things are fishy. First, are there really 23 coalitions? Second, there are 2 candidates named Rizal."
   ]
  },
  {
   "cell_type": "code",
   "execution_count": 122,
   "metadata": {},
   "outputs": [
    {
     "data": {
      "text/plain": [
       "coalition\n",
       "PAKATAN HARAPAN                              205\n",
       "BARISAN NASIONAL OF MALAYSIA                 177\n",
       "PERIKATAN NASIONAL                           148\n",
       "PARTI PEJUANG TANAHAIR                       115\n",
       "BEBAS                                        107\n",
       "PARTI WARISAN SABAH                           51\n",
       "GABUNGAN PARTI SARAWAK                        31\n",
       "PARTI ISLAM SE MALAYSIA                       22\n",
       "PARTI RAKYAT MALAYSIA                         16\n",
       "PARTI GABUNGAN RAKYAT SABAH                   13\n",
       "PARTI SARAWAK BERSATU                         10\n",
       "PARTI BUMIPUTERA PERKASA MALAYSIA              9\n",
       "DEMOCRATIC ACTION PARTY, MALAYSIA              8\n",
       "PARTI KESEJAHTERAAN DEMOKRATIK MASYARAKAT      7\n",
       "IKATAN DEMOKRATIK MALAYSIA                     6\n",
       "PARTI BANGSA MALAYSIA                          5\n",
       "PARTI BANSA DAYAK SARAWAK                      3\n",
       "PARTI BERSATU RAKYAT SABAH                     1\n",
       "PARTI PERPADUAN RAKYAT SABAH                   1\n",
       "PARTI SEDAR RAKYAT SARAWAK                     1\n",
       "PARTI SOSIALIS MALAYSIA (BARU)                 1\n",
       "PARTI UTAMA RAKYAT                             1\n",
       "PARTY BUMI KENYALANG                           1\n",
       "Name: coalition, dtype: int64"
      ]
     },
     "execution_count": 122,
     "metadata": {},
     "output_type": "execute_result"
    }
   ],
   "source": [
    "df.groupby(['coalition'])['coalition'].count().sort_values(ascending=False)"
   ]
  },
  {
   "cell_type": "markdown",
   "metadata": {},
   "source": [
    "Okay, seems right. No typos or anything. I guess there really are 23 coalitions including independent candidates (BEBAS)"
   ]
  },
  {
   "cell_type": "markdown",
   "metadata": {},
   "source": []
  },
  {
   "cell_type": "code",
   "execution_count": 123,
   "metadata": {},
   "outputs": [
    {
     "name": "stdout",
     "output_type": "stream",
     "text": [
      "        state                constituency                 result  \\\n",
      "163     KEDAH  P.018: KULIM-BANDAR BAHARU  Telah Hilang Deposit:   \n",
      "192  KELANTAN        P.024: KUBANG KERIAN  Telah Hilang Deposit:   \n",
      "\n",
      "    candidate_name               coalition       no_of_votes  \n",
      "163          RIZAL  PARTI PEJUANG TANAHAIR  Jumlah Undi: 591  \n",
      "192          RIZAL  PARTI PEJUANG TANAHAIR  Jumlah Undi: 687  \n"
     ]
    }
   ],
   "source": [
    "print(df.loc[df['candidate_name'] == 'RIZAL'])"
   ]
  },
  {
   "cell_type": "markdown",
   "metadata": {},
   "source": [
    "Lets give the Rizals their full names to tell them apart."
   ]
  },
  {
   "cell_type": "code",
   "execution_count": 124,
   "metadata": {},
   "outputs": [],
   "source": [
    "df.loc[(df['candidate_name'] == 'RIZAL') & (df['state'] == 'KEDAH'), 'candidate_name'] = 'Muhamad Yusrizal Yusuf'.upper()\n",
    "df.loc[(df['candidate_name'] == 'RIZAL') & (df['state'] == 'KELANTAN'), 'candidate_name'] = 'Mohamad Rizal Razali'.upper()"
   ]
  },
  {
   "cell_type": "markdown",
   "metadata": {},
   "source": [
    "Now lets clean up the constituency and no_of_votes columns"
   ]
  },
  {
   "cell_type": "code",
   "execution_count": 125,
   "metadata": {},
   "outputs": [],
   "source": [
    "df[['constituency_no','constituency']]=df[\"constituency\"].str.split(\": \",expand=True) \n",
    "df['no_of_votes'] = df['no_of_votes'].str.extract('(?<=: )(.*)')\n",
    "df['no_of_votes'] = df['no_of_votes'].str.replace(',', '').astype(int)"
   ]
  },
  {
   "cell_type": "markdown",
   "metadata": {},
   "source": [
    "And lets standardize the result column to WON, LOST, LOST DEPOSIT\n"
   ]
  },
  {
   "cell_type": "code",
   "execution_count": 126,
   "metadata": {},
   "outputs": [
    {
     "data": {
      "text/plain": [
       "array(['Dimenangi Oleh:', 'Telah Menewaskan:', 'Telah Hilang Deposit:'],\n",
       "      dtype=object)"
      ]
     },
     "execution_count": 126,
     "metadata": {},
     "output_type": "execute_result"
    }
   ],
   "source": [
    "df['result'].unique()"
   ]
  },
  {
   "cell_type": "code",
   "execution_count": 127,
   "metadata": {},
   "outputs": [],
   "source": [
    "def format_result_column(str):\n",
    "    if str=='Dimenangi Oleh:':\n",
    "        return 'WON'\n",
    "    elif str=='Telah Menewaskan:':\n",
    "        return 'LOST'\n",
    "    elif str=='Telah Hilang Deposit:':\n",
    "        return 'LOST DEPOSIT'\n",
    "    else:\n",
    "        return \"NA\"\n",
    "\n",
    "df['result'] = df['result'].apply(format_result_column)\n"
   ]
  },
  {
   "cell_type": "code",
   "execution_count": 128,
   "metadata": {},
   "outputs": [],
   "source": [
    "df.to_csv('output/MY_GE15_cleaned.csv', index=False)"
   ]
  },
  {
   "cell_type": "code",
   "execution_count": null,
   "metadata": {},
   "outputs": [],
   "source": []
  }
 ],
 "metadata": {
  "kernelspec": {
   "display_name": "Python 3.9.13 ('base')",
   "language": "python",
   "name": "python3"
  },
  "language_info": {
   "codemirror_mode": {
    "name": "ipython",
    "version": 3
   },
   "file_extension": ".py",
   "mimetype": "text/x-python",
   "name": "python",
   "nbconvert_exporter": "python",
   "pygments_lexer": "ipython3",
   "version": "3.9.13"
  },
  "orig_nbformat": 4,
  "vscode": {
   "interpreter": {
    "hash": "078c7e13ae1c7e79692e789e725e27f01b348e43606032ff572834228d2bc8b6"
   }
  }
 },
 "nbformat": 4,
 "nbformat_minor": 2
}
